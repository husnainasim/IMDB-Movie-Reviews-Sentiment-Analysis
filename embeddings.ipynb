{
 "cells": [
  {
   "cell_type": "code",
   "execution_count": 24,
   "metadata": {},
   "outputs": [],
   "source": [
    "from tensorflow.keras.preprocessing.text import one_hot\n"
   ]
  },
  {
   "cell_type": "code",
   "execution_count": 25,
   "metadata": {},
   "outputs": [],
   "source": [
    "## Sentences\n",
    "sent=[\n",
    "    'the glass of milk',\n",
    "    'the glass of juice',\n",
    "    'the cup of tea',\n",
    "    'I am a good boy',\n",
    "    'I am a good developer',\n",
    "    'understand the meaning of words',\n",
    "    'your videos are good'\n",
    "    \n",
    "]"
   ]
  },
  {
   "cell_type": "code",
   "execution_count": 26,
   "metadata": {},
   "outputs": [
    {
     "data": {
      "text/plain": [
       "['the glass of milk',\n",
       " 'the glass of juice',\n",
       " 'the cup of tea',\n",
       " 'I am a good boy',\n",
       " 'I am a good developer',\n",
       " 'understand the meaning of words',\n",
       " 'your videos are good']"
      ]
     },
     "execution_count": 26,
     "metadata": {},
     "output_type": "execute_result"
    }
   ],
   "source": [
    "sent"
   ]
  },
  {
   "cell_type": "code",
   "execution_count": 27,
   "metadata": {},
   "outputs": [],
   "source": [
    "#Defining Vocabulary size\n",
    "voc_size=10000\n"
   ]
  },
  {
   "cell_type": "code",
   "execution_count": 28,
   "metadata": {},
   "outputs": [
    {
     "data": {
      "text/plain": [
       "[[3515, 4356, 9680, 5409],\n",
       " [3515, 4356, 9680, 9203],\n",
       " [3515, 3740, 9680, 6437],\n",
       " [3601, 4154, 5473, 4778, 795],\n",
       " [3601, 4154, 5473, 4778, 9749],\n",
       " [8649, 3515, 4777, 9680, 3918],\n",
       " [3017, 8301, 5201, 4778]]"
      ]
     },
     "execution_count": 28,
     "metadata": {},
     "output_type": "execute_result"
    }
   ],
   "source": [
    "# One hot representation\n",
    "\n",
    "one_hot_rep=[one_hot(words,voc_size)for words in sent] #what???\n",
    "one_hot_rep"
   ]
  },
  {
   "cell_type": "code",
   "execution_count": 29,
   "metadata": {},
   "outputs": [],
   "source": [
    "## Word Embedding Representation\n",
    "\n",
    "from tensorflow.keras.layers import Embedding\n",
    "from tensorflow.keras.utils import pad_sequences\n",
    "from tensorflow.keras.models import Sequential\n",
    "\n",
    "import numpy as np\n"
   ]
  },
  {
   "cell_type": "code",
   "execution_count": 30,
   "metadata": {},
   "outputs": [
    {
     "name": "stdout",
     "output_type": "stream",
     "text": [
      "[[   0    0    0    0 3515 4356 9680 5409]\n",
      " [   0    0    0    0 3515 4356 9680 9203]\n",
      " [   0    0    0    0 3515 3740 9680 6437]\n",
      " [   0    0    0 3601 4154 5473 4778  795]\n",
      " [   0    0    0 3601 4154 5473 4778 9749]\n",
      " [   0    0    0 8649 3515 4777 9680 3918]\n",
      " [   0    0    0    0 3017 8301 5201 4778]]\n"
     ]
    }
   ],
   "source": [
    "sent_length=8\n",
    "embedded_doc=pad_sequences(one_hot_rep,padding='pre',maxlen=sent_length)\n",
    "print(embedded_doc)\n",
    " "
   ]
  },
  {
   "cell_type": "code",
   "execution_count": 31,
   "metadata": {},
   "outputs": [],
   "source": [
    "#feature dimension\n",
    "dim=10 #???"
   ]
  },
  {
   "cell_type": "code",
   "execution_count": 32,
   "metadata": {},
   "outputs": [],
   "source": [
    "model=Sequential()\n",
    "model.add(Embedding(voc_size,dim,input_length=sent_length))\n",
    "model.compile('adam','mse')"
   ]
  },
  {
   "cell_type": "code",
   "execution_count": 33,
   "metadata": {},
   "outputs": [
    {
     "name": "stdout",
     "output_type": "stream",
     "text": [
      "Model: \"sequential_4\"\n",
      "_________________________________________________________________\n",
      " Layer (type)                Output Shape              Param #   \n",
      "=================================================================\n",
      " embedding_4 (Embedding)     (None, 8, 10)             100000    \n",
      "                                                                 \n",
      "=================================================================\n",
      "Total params: 100000 (390.62 KB)\n",
      "Trainable params: 100000 (390.62 KB)\n",
      "Non-trainable params: 0 (0.00 Byte)\n",
      "_________________________________________________________________\n"
     ]
    }
   ],
   "source": [
    "model.summary()"
   ]
  },
  {
   "cell_type": "code",
   "execution_count": 39,
   "metadata": {},
   "outputs": [
    {
     "name": "stdout",
     "output_type": "stream",
     "text": [
      "WARNING:tensorflow:5 out of the last 5 calls to <function Model.make_predict_function.<locals>.predict_function at 0x000001481B5600E0> triggered tf.function retracing. Tracing is expensive and the excessive number of tracings could be due to (1) creating @tf.function repeatedly in a loop, (2) passing tensors with different shapes, (3) passing Python objects instead of tensors. For (1), please define your @tf.function outside of the loop. For (2), @tf.function has reduce_retracing=True option that can avoid unnecessary retracing. For (3), please refer to https://www.tensorflow.org/guide/function#controlling_retracing and https://www.tensorflow.org/api_docs/python/tf/function for  more details.\n",
      "1/1 [==============================] - 0s 62ms/step\n"
     ]
    },
    {
     "data": {
      "text/plain": [
       "array([[ 0.00974002,  0.02481148, -0.02529688,  0.04463092,  0.01725103,\n",
       "         0.02291066,  0.04925584,  0.01331973,  0.00958618, -0.02519957],\n",
       "       [ 0.00974002,  0.02481148, -0.02529688,  0.04463092,  0.01725103,\n",
       "         0.02291066,  0.04925584,  0.01331973,  0.00958618, -0.02519957],\n",
       "       [ 0.00974002,  0.02481148, -0.02529688,  0.04463092,  0.01725103,\n",
       "         0.02291066,  0.04925584,  0.01331973,  0.00958618, -0.02519957],\n",
       "       [ 0.00974002,  0.02481148, -0.02529688,  0.04463092,  0.01725103,\n",
       "         0.02291066,  0.04925584,  0.01331973,  0.00958618, -0.02519957],\n",
       "       [-0.0228557 ,  0.01502744, -0.03740867, -0.02331376,  0.0460078 ,\n",
       "         0.03398254, -0.01359261, -0.04299036,  0.02315238,  0.04927168],\n",
       "       [-0.02423304,  0.0385326 ,  0.03695765,  0.04164152,  0.00688026,\n",
       "         0.0167987 ,  0.01489921, -0.02767155, -0.04683646, -0.03112602],\n",
       "       [-0.04157708,  0.04088378,  0.02361384, -0.02626537,  0.00679672,\n",
       "         0.02349425,  0.0322522 , -0.01523806, -0.01218388,  0.0343329 ],\n",
       "       [ 0.04419648, -0.04958311,  0.02321998, -0.0111508 ,  0.02078677,\n",
       "        -0.01606862, -0.04266219,  0.04484903,  0.04412159,  0.0141308 ]],\n",
       "      dtype=float32)"
      ]
     },
     "execution_count": 39,
     "metadata": {},
     "output_type": "execute_result"
    }
   ],
   "source": [
    "model.predict(embedded_doc[0])#for every word in a sentence, it will give a vector of 10 dimensions\n"
   ]
  },
  {
   "cell_type": "code",
   "execution_count": 38,
   "metadata": {},
   "outputs": [
    {
     "data": {
      "text/plain": [
       "array([   0,    0,    0,    0, 3515, 4356, 9680, 5409])"
      ]
     },
     "execution_count": 38,
     "metadata": {},
     "output_type": "execute_result"
    }
   ],
   "source": [
    "embedded_doc[0]"
   ]
  },
  {
   "cell_type": "code",
   "execution_count": null,
   "metadata": {},
   "outputs": [],
   "source": []
  }
 ],
 "metadata": {
  "kernelspec": {
   "display_name": "Python 3",
   "language": "python",
   "name": "python3"
  },
  "language_info": {
   "codemirror_mode": {
    "name": "ipython",
    "version": 3
   },
   "file_extension": ".py",
   "mimetype": "text/x-python",
   "name": "python",
   "nbconvert_exporter": "python",
   "pygments_lexer": "ipython3",
   "version": "3.11.0"
  }
 },
 "nbformat": 4,
 "nbformat_minor": 2
}
